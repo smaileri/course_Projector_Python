{
 "cells": [
  {
   "attachments": {},
   "cell_type": "markdown",
   "metadata": {},
   "source": [
    "\n",
    "1. Write a Python program to compute the difference between two lists."
   ]
  },
  {
   "cell_type": "code",
   "execution_count": 6,
   "metadata": {},
   "outputs": [],
   "source": [
    "def compute_difference(first: list, second: list) -> tuple:\n",
    "        # for item in first.copy():\n",
    "        #     if item in second:\n",
    "        #         first.remove(item)\n",
    "        #         second.remove(item)\n",
    "        # return (first, second)\n",
    "        f = first.copy()\n",
    "        s = second.copy()\n",
    "        for item in first:\n",
    "                if item in s:\n",
    "                        f.remove(item)\n",
    "                        s.remove(item)\n",
    "        return (f,s)\n",
    "\n",
    "def test_compute_difference():\n",
    "        result1 = compute_difference(['a', 'b', 'c', 'c', 'd'], ['c', 'd', 'e'])\n",
    "        assert result1 == (['a', 'b', 'c'], ['e'])\n",
    "\n",
    "        result2 = compute_difference([], ['c', 'd', 'e'])\n",
    "        assert result2 == ([], ['c', 'd', 'e'])\n",
    "\n",
    "        result3 = compute_difference([1, 2, 3], [4, 5, 6])\n",
    "        assert result3 == ([1, 2, 3], [4, 5, 6])\n",
    "\n",
    "        result3 = compute_difference([1, 2, 3], [2, 3, 4])\n",
    "        assert result3 == ([1], [4])\n",
    "\n",
    "test_compute_difference()"
   ]
  },
  {
   "attachments": {},
   "cell_type": "markdown",
   "metadata": {},
   "source": [
    "2. Given an array of integers nums and an integer target, return indices of the two numbers such that they add up to target.\n",
    "    You may assume that each input would have exactly one solution, and you may not use the same element twice.\n",
    "    You can return the answer in any order.\n"
   ]
  },
  {
   "cell_type": "code",
   "execution_count": 40,
   "metadata": {},
   "outputs": [],
   "source": [
    "def sum_of_two(nums: list, target: int) -> list:\n",
    "        for i in range (len(nums)):\n",
    "            for j in range (i + 1, len(nums)):\n",
    "                if nums[i] + nums[j] == target:\n",
    "                    return [i,j]\n",
    "        return []\n",
    "\n",
    "def test_sum_of_two():\n",
    "        result1 = sum_of_two([2,7,11,15], 9)\n",
    "        assert result1 == [0, 1]\n",
    "\n",
    "        result2 = sum_of_two([3,2,4], 6)\n",
    "        assert result2 == [1, 2]\n",
    "\n",
    "        result3 = sum_of_two([3,3], 6)\n",
    "        assert result3 == [0, 1]\n",
    "\n",
    "test_sum_of_two()"
   ]
  },
  {
   "attachments": {},
   "cell_type": "markdown",
   "metadata": {},
   "source": [
    "3. Write a program that takes a list of integers as input and returns a new list that contains only the elements that are unique (i.e., that appear only once in the list). For example, if the input list is [1, 2, 3, 2, 4, 5, 5], the output list should be [1, 3, 4]. You can not use set data structure. It`s also forbidden to use the count method.\n"
   ]
  },
  {
   "cell_type": "code",
   "execution_count": 1,
   "metadata": {},
   "outputs": [],
   "source": [
    "def unique_elements(arr: list) -> list:\n",
    "        # stable = arr.copy()\n",
    "        # for pos in range (len (stable)):\n",
    "        #     if stable[pos] in stable[pos + 1:]:\n",
    "        #         while stable[pos] in arr:\n",
    "        #             arr.remove( stable[pos])\n",
    "        # return arr\n",
    "        answer = []\n",
    "        for pos in range (len(arr)):\n",
    "            if not (arr[pos] in arr[:pos] or arr[pos] in arr[pos + 1:]):\n",
    "                answer.append (arr[pos])\n",
    "        return answer \n",
    "\n",
    "\n",
    "def test_unique_elements():\n",
    "    result1 = unique_elements([1, 2, 3, 2, 4, 5, 5])\n",
    "    assert result1 == [1, 3, 4]\n",
    "\n",
    "    result2 = unique_elements([1, 2, 3, 4, 5])\n",
    "    assert result2 == [1, 2, 3, 4, 5]\n",
    "\n",
    "    result3 = unique_elements([1, 1, 1, 1, 1])\n",
    "    assert result3 == []\n",
    "\n",
    "test_unique_elements()"
   ]
  },
  {
   "attachments": {},
   "cell_type": "markdown",
   "metadata": {},
   "source": [
    "4. Write a program that takes a list of integers as input and returns a new list that contains only the elements that appear an odd number of times in the list. For example, if the input list is [1, 2, 3, 2, 4, 5, 5], the output list should be [1, 3, 4].\n"
   ]
  },
  {
   "cell_type": "code",
   "execution_count": 42,
   "metadata": {},
   "outputs": [],
   "source": [
    "def odd_elements(arr: list) -> list:\n",
    "        answer = []\n",
    "        for elem in arr:\n",
    "            if not (elem in answer) and arr.count(elem) % 2:\n",
    "                answer.append (elem)\n",
    "        return answer\n",
    "    \n",
    "def test_odd_elements():\n",
    "    result1 = odd_elements([1, 2, 3, 2, 4, 5, 5])\n",
    "    assert result1 == [1, 3, 4]\n",
    "\n",
    "    result1 = odd_elements([1, 2, 3, 2, 4, 5, 5, 6, 6, 6])\n",
    "    assert result1 == [1, 3, 4, 6]\n",
    "\n",
    "test_odd_elements()"
   ]
  },
  {
   "attachments": {},
   "cell_type": "markdown",
   "metadata": {},
   "source": [
    "5. Write a program that takes a list of integers as input and returns the second-largest element in the list. If the list has fewer than two elements, the program should return None. For example, if the input list is [1, 2, 3, 2, 4, 5, 5], the program should return 5.\n"
   ]
  },
  {
   "cell_type": "code",
   "execution_count": 8,
   "metadata": {},
   "outputs": [],
   "source": [
    "def second_largest_element(arr: list) -> int:\n",
    "    # unique_arr = unique_elements(arr)\n",
    "    # if len (unique_arr) < 2:\n",
    "    #     return None\n",
    "    # arr.sort()\n",
    "    # return arr[-2]\n",
    "    # pass\n",
    "    if not arr:\n",
    "        return None\n",
    "    big, biggest = None, arr[0]\n",
    "    is_trivial = True\n",
    "\n",
    "    for elem in arr[1:]:\n",
    "        if elem != biggest:\n",
    "            is_trivial = False\n",
    "\n",
    "        if elem >= biggest:\n",
    "            big, biggest = biggest, elem\n",
    "        elif elem > big:\n",
    "            big = elem\n",
    "\n",
    "    if (is_trivial):\n",
    "        return None\n",
    "    return big  \n",
    "\n",
    "def test_second_largest_element():\n",
    "    result1 = second_largest_element([1, 2, 3, 2, 4, 5, 5])\n",
    "    assert result1 == 5\n",
    "\n",
    "    result2 = second_largest_element([1, 2, 3, 4, 5])\n",
    "    assert result2 == 4\n",
    "\n",
    "    result3 = second_largest_element([1, 1, 1, 1, 1])\n",
    "    assert result3 == None"
   ]
  },
  {
   "attachments": {},
   "cell_type": "markdown",
   "metadata": {},
   "source": [
    "6. Optional (hard): Longest Increasing Sequence\n",
    "\n",
    "    Have the function longest_increasing_sequence take the list of positive integers and return the length of the longest increasing subsequence (LIS). A LIS is a subset of the original list where the numbers are in sorted order, from lowest to highest, and are in increasing order. The sequence does not need to be contiguous or unique, and there can be several different subsequences. For example: if arr is [4, 3, 5, 1, 6] then a possible LIS is [3, 5, 6], and another is [1, 6]. For this input, your program should return 3 because that is the length of the longest increasing subsequence."
   ]
  },
  {
   "cell_type": "code",
   "execution_count": 44,
   "metadata": {},
   "outputs": [],
   "source": [
    "def longest_increasing_sequence_n (data: list, n: int = 0) -> int:\n",
    "    if len (data) == 1:\n",
    "        return 1 if data[0] > n else 0\n",
    "\n",
    "    if n >= data[0]:\n",
    "        return longest_increasing_sequence_n(data[1:], n)\n",
    "\n",
    "    opt1 = longest_increasing_sequence_n (data[1:], data[0]) #we put data[0] in a seq\n",
    "    opt2 = longest_increasing_sequence_n (data[1:], n) #we skip data[0]\n",
    "    if opt1 + 1 >= opt2:\n",
    "        return opt1 + 1\n",
    "    else:\n",
    "        return opt2\n",
    "\n",
    "def longest_increasing_sequence (data: list,)->int:\n",
    "    if not data:\n",
    "        return None\n",
    "    max_seq = 1\n",
    "    for pos in range (len(data) - 1):\n",
    "        tmt = longest_increasing_sequence_n (data[pos + 1:], data[pos])\n",
    "        if tmt + 1 > max_seq:\n",
    "            max_seq = tmt + 1\n",
    "    return max_seq\n",
    "\n",
    "\n",
    "\n",
    "def test_sum_of_two():\n",
    "        result1 = longest_increasing_sequence([9, 9, 4, 2])\n",
    "        assert result1 == 1\n",
    "\n",
    "        result2 = longest_increasing_sequence([10, 22, 9, 33, 21, 50, 41, 60, 22, 68, 90])\n",
    "        assert result2 == 7\n",
    "\n",
    "        result3 = longest_increasing_sequence([4, 3, 5, 1, 6])\n",
    "        assert result3 == 3"
   ]
  },
  {
   "attachments": {},
   "cell_type": "markdown",
   "metadata": {},
   "source": [
    "7. Sort the following list by population. Calculate average and total population for cities from this list"
   ]
  },
  {
   "cell_type": "code",
   "execution_count": 45,
   "metadata": {},
   "outputs": [
    {
     "name": "stdout",
     "output_type": "stream",
     "text": [
      "San Jose - 945942\n",
      "Dallas - 1197816\n",
      "San Diego - 1307402\n",
      "San Antonio - 1327407\n",
      "Phoenix - 1445632\n",
      "Philadelphia - 1526006\n",
      "Houston - 2100263\n",
      "Chicago - 2695598\n",
      "Los Angeles - 3792621\n",
      "New York City - 8550405\n",
      "The total population is 24889092\n",
      "The average population is 2488909.2\n"
     ]
    }
   ],
   "source": [
    "def key_sor(x):\n",
    "    return x[1]\n",
    "def foo():\n",
    "    data = [\n",
    "    ('New York City', 8550405),\n",
    "    ('Los Angeles', 3792621),\n",
    "    ('Chicago', 2695598),\n",
    "    ('Houston', 2100263),\n",
    "    ('Philadelphia', 1526006),\n",
    "    ('Phoenix', 1445632),\n",
    "    ('San Antonio', 1327407),\n",
    "    ('San Diego', 1307402),\n",
    "    ('Dallas', 1197816),\n",
    "    ('San Jose', 945942),\n",
    "    ]\n",
    "    data.sort(key = key_sor)\n",
    "    for city in data:\n",
    "        print (f\"{city[0]} - {city[1]}\")\n",
    "    print(f\"The total population is {sum([elem[1] for elem in data])}\")\n",
    "    print(f\"The average population is {sum([elem[1] for elem in data]) / len (data)}\")\n",
    "foo()"
   ]
  }
 ],
 "metadata": {
  "kernelspec": {
   "display_name": "Python 3",
   "language": "python",
   "name": "python3"
  },
  "language_info": {
   "codemirror_mode": {
    "name": "ipython",
    "version": 3
   },
   "file_extension": ".py",
   "mimetype": "text/x-python",
   "name": "python",
   "nbconvert_exporter": "python",
   "pygments_lexer": "ipython3",
   "version": "3.9.6 (default, Oct 18 2022, 12:41:40) \n[Clang 14.0.0 (clang-1400.0.29.202)]"
  },
  "orig_nbformat": 4,
  "vscode": {
   "interpreter": {
    "hash": "31f2aee4e71d21fbe5cf8b01ff0e069b9275f58929596ceb00d14d90e3e16cd6"
   }
  }
 },
 "nbformat": 4,
 "nbformat_minor": 2
}
