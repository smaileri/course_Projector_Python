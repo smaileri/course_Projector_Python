{
 "cells": [
  {
   "attachments": {},
   "cell_type": "markdown",
   "metadata": {},
   "source": [
    "## Practice section\n",
    "\n",
    "1. Figure out the result of the following expressions:\n",
    "\n",
    "    a) (1 <= 1) and (1 != 1)  False\n",
    "\n",
    "    b) not (1 != 2) False\n",
    "\n",
    "    c) (\"good\" != \"bad\") or False True\n",
    "\n",
    "    d) (\"good\" != \"Good\") and not (1 == 1) False\n",
    "2. Make all of them True by adding parentheses:\n",
    "\n",
    "    a) False == (not True)\n",
    "\n",
    "    b) (True and False) == (True and False)\n",
    "\n",
    "    c) not (True and (\"A\" == \"B\"))\n"
   ]
  },
  {
   "cell_type": "code",
   "execution_count": 3,
   "metadata": {},
   "outputs": [
    {
     "name": "stdout",
     "output_type": "stream",
     "text": [
      "[1, 2, 17, 34]\n"
     ]
    }
   ],
   "source": [
    "# 3. Get a positive number from user input. Find all factors of this number.\n",
    "#     Example:\n",
    "#     - If the number is 6, the factors are: 1, 2, 3, 6\n",
    "#     - If the number is 10, the factors are: 1, 2, 5, 10\n",
    "\n",
    "number = int( input (\"Input a positive number:\"))\n",
    "while number <= 0:\n",
    "    number = int( input (\"Input a positive number:\"))\n",
    "var = [1]\n",
    "count = 2\n",
    "\n",
    "while count <= number:\n",
    "    if (not number % count):\n",
    "        var.append(count)\n",
    "    count += 1\n",
    "\n",
    "print (var)\n"
   ]
  },
  {
   "cell_type": "code",
   "execution_count": 4,
   "metadata": {},
   "outputs": [
    {
     "name": "stdout",
     "output_type": "stream",
     "text": [
      "A triangle with sides a = 10, b = 7, c = 7 is isosceles\n"
     ]
    }
   ],
   "source": [
    "# 4. Write a Python program to check a triangle is equilateral, isosceles or scalene. Get all three sides from user input.\n",
    "#     Note :\n",
    "#     1. An equilateral triangle is a triangle in which all three sides are equal.\n",
    "#     2. A scalene triangle is a triangle that has three unequal sides.\n",
    "#     3. An isosceles triangle is a triangle with (at least) two equal sides.\n",
    "\n",
    "def exists_triangle (a, b, c):\n",
    "    return a < b + c and a > abs(b - c) and a > 0 and b > 0 and c > 0\n",
    "\n",
    "def equilateral (a, b, c):\n",
    "    return a == b and b == c\n",
    "\n",
    "def isosceles (a, b , c):\n",
    "    var = [a, b, c]\n",
    "    var = sorted(var)\n",
    "    return a == b or b == c\n",
    "\n",
    "a, b, c = int (input (\"Please, input a:\")), int (input (\"Please, input b:\")), int(input (\"Please, input c:\")) \n",
    "\n",
    "if (not exists_triangle(a, b, c)):\n",
    "    print (f\"A triangle with sides a = {a}, b = {b}, c = {c} doesn't exist\")\n",
    "elif (equilateral(a, b, c)):\n",
    "    print (f\"A triangle with sides a = {a}, b = {b}, c = {c} is equilateral\")\n",
    "elif (isosceles(a, b, c)):\n",
    "    print (f\"A triangle with sides a = {a}, b = {b}, c = {c} is isosceles\")\n",
    "else:\n",
    "    print (f\"A triangle with sides a = {a}, b = {b}, c = {c} is scalene\")\n"
   ]
  },
  {
   "cell_type": "code",
   "execution_count": 8,
   "metadata": {},
   "outputs": [
    {
     "name": "stdout",
     "output_type": "stream",
     "text": [
      "2000-2-29\n"
     ]
    }
   ],
   "source": [
    "# 5. (Optional): Write a Python program to get next day of a given date. Get day, month and year from the user input.\n",
    "# Expected Output:\n",
    "\n",
    "#     **Input a year:** 2022                                                     \n",
    "#     **Input a month [1-12]:** 8                                               \n",
    "#     **Input a day [1-31]:** 23                                           \n",
    "#     The next date is [yyyy-mm-dd] 2022-8-24\n",
    "\n",
    "days_month = {  1: 31,\n",
    "                2: 28,\n",
    "                3: 31,\n",
    "                4: 30,\n",
    "                5: 31,\n",
    "                6: 30,\n",
    "                7: 31,\n",
    "                8: 31,\n",
    "                9: 30,\n",
    "                10: 31,\n",
    "                11: 30,\n",
    "                12: 31\n",
    "            }\n",
    "\n",
    "def is_leap (year):\n",
    "    if (not year % 4):\n",
    "        if ( not year % 100 and year % 400):\n",
    "            return False\n",
    "        return True\n",
    "    return False\n",
    "\n",
    "def check_data (year, month, day):\n",
    "    if (not (month in days_month.keys() )):\n",
    "        return False\n",
    "    if (day < 1 or days_month[month] < day):\n",
    "        return False\n",
    "    return True\n",
    "\n",
    "year, month, day = int (input (\"Input a year:\")), int (input (\"Input a month:\")), int (input (\"Input a day:\"))\n",
    "if not check_data (year, month, day):\n",
    "    print (\"The data is incorrect.\")\n",
    "else:\n",
    "    if (is_leap(year)):\n",
    "        days_month[2] = 29\n",
    "    if (days_month[month] == day): #it is the end of the month\n",
    "        if (month == 12):\n",
    "            print (f\"{year + 1}-1-1\")\n",
    "        else:\n",
    "            print (f\"{year}-{month + 1}-1\")\n",
    "    else:\n",
    "        print (f\"{year}-{month}-{day + 1}\")\n"
   ]
  },
  {
   "cell_type": "code",
   "execution_count": 10,
   "metadata": {},
   "outputs": [
    {
     "name": "stdout",
     "output_type": "stream",
     "text": [
      "-2\n",
      "-4\n",
      "-8\n",
      "-16\n",
      "-32\n",
      "-64\n",
      "-128\n"
     ]
    }
   ],
   "source": [
    "# 6. Write a program that takes number as its input and doubles that number few times in a loop. \n",
    "# Number of iterations and initial number should be taken from user input. \n",
    "# You should display each result on a separate line. Here is some sample output:\n",
    "#     ```\n",
    "#     Input:\n",
    "#     initial number: 2\n",
    "#     number of iterations: 5\n",
    "\n",
    "#     Output:\n",
    "#     4\n",
    "#     8\n",
    "#     16\n",
    "#     32\n",
    "#     64\n",
    "times, number = int ( input(\"How many times should I double?\")), int( input(\"What number?\"))\n",
    "\n",
    "while times:\n",
    "    number *= 2\n",
    "    print (number )\n",
    "    times -= 1"
   ]
  },
  {
   "cell_type": "code",
   "execution_count": 12,
   "metadata": {},
   "outputs": [
    {
     "name": "stdout",
     "output_type": "stream",
     "text": [
      "The sum of all numbers = 38\n"
     ]
    }
   ],
   "source": [
    "# 7. Write a program that asks the user to enter a number, and then keeps asking for numbers until the user enters the number 0.\n",
    "#  Once the user enters 0, the program should print the sum of all the numbers entered by the user.\n",
    "\n",
    "answ = []\n",
    "user_info = int (input (\"Type number:\"))\n",
    "while user_info:\n",
    "    answ.append (user_info)\n",
    "    user_info = int (input (\"Type number:\"))\n",
    "\n",
    "print (f\"The sum of all numbers = {sum(answ)}\")\n",
    "\n",
    "#2. without lists\n",
    "\n",
    "answ = 0\n",
    "user_info = int (input (\"Type number:\"))\n",
    "while user_info:\n",
    "    answ += user_info\n",
    "    user_info = int (input (\"Type number:\"))\n",
    "\n",
    "print (f\"The sum of all numbers = {answ}\")"
   ]
  }
 ],
 "metadata": {
  "kernelspec": {
   "display_name": "Python 3",
   "language": "python",
   "name": "python3"
  },
  "language_info": {
   "codemirror_mode": {
    "name": "ipython",
    "version": 3
   },
   "file_extension": ".py",
   "mimetype": "text/x-python",
   "name": "python",
   "nbconvert_exporter": "python",
   "pygments_lexer": "ipython3",
   "version": "3.9.6 (default, Jun 29 2021, 05:25:02) \n[Clang 12.0.5 (clang-1205.0.22.9)]"
  },
  "orig_nbformat": 4,
  "vscode": {
   "interpreter": {
    "hash": "aee8b7b246df8f9039afb4144a1f6fd8d2ca17a180786b69acc140d282b71a49"
   }
  }
 },
 "nbformat": 4,
 "nbformat_minor": 2
}
