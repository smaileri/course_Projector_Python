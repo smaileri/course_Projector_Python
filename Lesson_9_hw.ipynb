{
 "cells": [
  {
   "attachments": {},
   "cell_type": "markdown",
   "metadata": {},
   "source": [
    "### Practice\n",
    "\n",
    "**You have 100 cats.**\n",
    "\n",
    "One day you decide to arrange all your cats in a giant circle. Initially, none of your cats have any hats on. You walk around the circle 100 times, always starting at the same spot, with the first cat (cat # 1). Every time you stop at a cat, you either put a hat on it if it doesn’t have one on, or you take its hat off if it has one on.\n",
    "1. The first round, you stop at every cat, placing a hat on each one.\n",
    "2. The second round, you only stop at every second cat (#2, #4, #6, #8, etc.).\n",
    "3. The third round, you only stop at every third cat(#3, #6, #9, #12, etc.).\n",
    "4. You continue this process until you’ve made 100 rounds around the cats (e.g., you only visit the 100th cat).\n",
    "Write a program that simply outputs which cats have hats at the end.\n",
    "\n",
    "Optional: Make function that can calculate hat with any amount of rounds and cats.\n",
    "\n",
    "Here you should write an algorithm, after that, try to make pseudo code. Only after that start to work. Code is simple here, but you might struggle with algorithm. Therefore don`t try to write a code from the first attempt. "
   ]
  },
  {
   "cell_type": "code",
   "execution_count": 19,
   "metadata": {},
   "outputs": [
    {
     "data": {
      "text/plain": [
       "[1, 4, 9, 16, 25, 36, 49, 64, 81, 100]"
      ]
     },
     "execution_count": 19,
     "metadata": {},
     "output_type": "execute_result"
    }
   ],
   "source": [
    "# only squared integers have an odd quantity of factors, \n",
    "# a cat's index (with a hat) should have an odd number of factors \n",
    "def hats_on_cats (quantity: int)-> list:\n",
    "    return [i ** 2 for i in range (1, int(quantity ** 0.5) + 1)]\n",
    "\n",
    "hats_on_cats(quantity = 100)"
   ]
  },
  {
   "cell_type": "code",
   "execution_count": 18,
   "metadata": {},
   "outputs": [
    {
     "data": {
      "text/plain": [
       "[1, 4, 9, 16, 25, 36, 49, 64, 81]"
      ]
     },
     "execution_count": 18,
     "metadata": {},
     "output_type": "execute_result"
    }
   ],
   "source": [
    "def simulation (quantity: int, rounds: int) -> list:\n",
    "    cats = [False for i in range(quantity + 1)]\n",
    "    round = 1\n",
    "    while round <= rounds:\n",
    "        cats = [not cat if not index % round else cat for index, cat in enumerate (cats)]\n",
    "        round += 1\n",
    "    return cats\n",
    "\n",
    "def hats_on_cats (quantity: int, rounds: int) -> list:\n",
    "    cats = simulation (quantity, rounds)\n",
    "    answer = [index + 1 for index, cat in enumerate(cats[1:]) if cat]\n",
    "    return answer\n",
    "\n",
    "hats_on_cats(quantity = 100,rounds = 100)"
   ]
  }
 ],
 "metadata": {
  "kernelspec": {
   "display_name": "Python 3",
   "language": "python",
   "name": "python3"
  },
  "language_info": {
   "codemirror_mode": {
    "name": "ipython",
    "version": 3
   },
   "file_extension": ".py",
   "mimetype": "text/x-python",
   "name": "python",
   "nbconvert_exporter": "python",
   "pygments_lexer": "ipython3",
   "version": "3.11.1"
  },
  "orig_nbformat": 4,
  "vscode": {
   "interpreter": {
    "hash": "aee8b7b246df8f9039afb4144a1f6fd8d2ca17a180786b69acc140d282b71a49"
   }
  }
 },
 "nbformat": 4,
 "nbformat_minor": 2
}
