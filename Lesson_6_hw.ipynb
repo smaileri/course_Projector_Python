{
 "cells": [
  {
   "attachments": {},
   "cell_type": "markdown",
   "metadata": {},
   "source": [
    "1. \n",
    "    * Create an outer function that will accept two parameters, a and b\n",
    "    * Create an inner function inside an outer function that will calculate the addition of a and b\n",
    "    * At last, an outer function will add 5 into addition and return it\n"
   ]
  },
  {
   "cell_type": "code",
   "execution_count": 1,
   "metadata": {},
   "outputs": [
    {
     "data": {
      "text/plain": [
       "8"
      ]
     },
     "execution_count": 1,
     "metadata": {},
     "output_type": "execute_result"
    }
   ],
   "source": [
    "def outer_function (a, b):\n",
    "    def inner_sum ():\n",
    "        return a + b\n",
    "    return inner_sum() + 5\n",
    "\n",
    "x, y = 1, 2\n",
    "outer_function(x, y)"
   ]
  },
  {
   "attachments": {},
   "cell_type": "markdown",
   "metadata": {},
   "source": [
    "2. Write a program that asks user to enter an integer and convert it to int. If the user enters something that is not an integer, program should catch an error and ask the user to enter an integer again. if user inputs an integer, program should print this number and quit w/o any error."
   ]
  },
  {
   "cell_type": "code",
   "execution_count": 2,
   "metadata": {},
   "outputs": [
    {
     "name": "stdout",
     "output_type": "stream",
     "text": [
      "12\n"
     ]
    }
   ],
   "source": [
    "def convertion_input_in_int ():\n",
    "    while True:\n",
    "        try:\n",
    "            data = input (\"Input an integer\")\n",
    "            data = int (data)\n",
    "            print (data)\n",
    "            break\n",
    "        except ValueError:\n",
    "            print (f\"{data} is not an int. Try again\")\n",
    "\n",
    "convertion_input_in_int ()\n",
    "        \n"
   ]
  },
  {
   "attachments": {},
   "cell_type": "markdown",
   "metadata": {},
   "source": [
    "3. Write a program that asks the user to input a string and an integer `n`. Then display the character at index `n` in the string. You should handle all errors properly and display proper error message."
   ]
  },
  {
   "cell_type": "code",
   "execution_count": 9,
   "metadata": {},
   "outputs": [
    {
     "name": "stdout",
     "output_type": "stream",
     "text": [
      "Probably, n = 'ab' is not an int, raised invalid literal for int() with base 10: 'ab'\n",
      "10 position is out of Range, the length of a string is 3, string index out of range\n",
      "1\n"
     ]
    }
   ],
   "source": [
    "def foo():\n",
    "    while True:\n",
    "        try:\n",
    "            data = input (\"Input a string\")\n",
    "            n = input (\"Input a position\")\n",
    "            n = int (n)\n",
    "            print (data[n])\n",
    "            break\n",
    "        except ValueError as e:\n",
    "            print (f\"Probably, n = \\'{n}\\' is not an int, raised {e}\")\n",
    "        except IndexError as e:\n",
    "            print (f\"n = \\'{n}\\' is out of range, the length of a string is {len(data)}, raised {e}\")\n",
    "\n",
    "foo()"
   ]
  },
  {
   "attachments": {},
   "cell_type": "markdown",
   "metadata": {},
   "source": [
    "4. Write a function that simulate a dice roll and returns the result from $1$ to $6$.\n"
   ]
  },
  {
   "cell_type": "code",
   "execution_count": 11,
   "metadata": {},
   "outputs": [
    {
     "data": {
      "text/plain": [
       "5"
      ]
     },
     "execution_count": 11,
     "metadata": {},
     "output_type": "execute_result"
    }
   ],
   "source": [
    "import random \n",
    "def dice_roll () -> int:\n",
    "    return random.randint(1, 6)\n",
    "\n",
    "dice_roll()"
   ]
  },
  {
   "attachments": {},
   "cell_type": "markdown",
   "metadata": {},
   "source": [
    "5. Write a function that simulate 10 000 rolls and returns the number of times that the dice roll for each value"
   ]
  },
  {
   "cell_type": "code",
   "execution_count": 13,
   "metadata": {},
   "outputs": [
    {
     "data": {
      "text/plain": [
       "[1734, 1722, 1705, 1587, 1585, 1667]"
      ]
     },
     "execution_count": 13,
     "metadata": {},
     "output_type": "execute_result"
    }
   ],
   "source": [
    "def foo ():\n",
    "    data = [0 for _ in range(6)]\n",
    "    for _ in range (10000):\n",
    "        data[ dice_roll() - 1 ] += 1\n",
    "    return data\n",
    "\n",
    "foo()"
   ]
  },
  {
   "attachments": {},
   "cell_type": "markdown",
   "metadata": {},
   "source": [
    "6. Simulate an election for two candidates. Program should take amount of regions and rating for 1st candidate in each region (in percentage). Program should run election in every region. In every region, program should ask 10 000 voters. Candidate count as a winner if he gains more than 50% of all votes. Program should print the result of the election for each region and the winner\n",
    "\n",
    "    Example:\n",
    "\n",
    "    Enter number of regions: 2 \n",
    "\n",
    "    Enter rating for 1st candidate in 1 region: 34\n",
    "    Enter rating for 1st candidate in 2 region: 56\n",
    "\n",
    "    Region 1: 3456 votes for 1st candidate, 6544 votes for 2nd candidate\n",
    "\n",
    "    Region 2: 5623 votes for 1st candidate, 4356 votes for 2nd candidate\n",
    "\n",
    "    Result: 2nd candidate won with 10900 votes and 54.5% of all votes"
   ]
  },
  {
   "cell_type": "code",
   "execution_count": 6,
   "metadata": {},
   "outputs": [
    {
     "name": "stdout",
     "output_type": "stream",
     "text": [
      "Region 1: 10000 votes for 1st candidate, 0 votes for 2nd candidate\n",
      "Region 2: 0 votes for 1st candidate, 10000 votes for 2nd candidate\n",
      "Nobody wins. Both candidats have 50%\n"
     ]
    }
   ],
   "source": [
    "import random\n",
    "voters = 10000\n",
    "\n",
    "def input_information () -> list:\n",
    "    while True:\n",
    "        try:\n",
    "            regions = input (\"Enter a number of regions: \")\n",
    "            regions = int (regions)\n",
    "            break\n",
    "        except ValueError:\n",
    "            print (f\"\\'{regions}\\' is not an int. Try again\")\n",
    "\n",
    "    #input ratings in each region\n",
    "    ratings = []\n",
    "    for region in range (regions):\n",
    "        while True:\n",
    "            try:\n",
    "                rating = input (f\"Enter a rating for 1st candidat in {region} region: \")\n",
    "                rating = int (rating)\n",
    "                if (rating > 100 or rating < 0):\n",
    "                    raise ValueError(\"Rating can be only int in [0, 100]\")\n",
    "                ratings.append (rating)\n",
    "                break\n",
    "            except ValueError:\n",
    "                print (f\"\\'{rating}\\' is not an int. Try again\")\n",
    "    return ratings\n",
    "\n",
    "def vote_in_region (n: int) -> int:\n",
    "    data = [0 for _ in range (100)]\n",
    "    for voter in range (voters):\n",
    "        data[ random.randint(0, 99)] += 1\n",
    "    return sum ( data [:n])\n",
    "\n",
    "def simulation_voting (ratings: list ) -> list:\n",
    "    results = []\n",
    "    for region in range (len (ratings)):\n",
    "        results.append(vote_in_region (ratings[ region] ) )\n",
    "    return results\n",
    "\n",
    "def print_results (results: list) -> None:\n",
    "    for reg in range (len (results)):\n",
    "        print (f\"Region {reg + 1}: {results[reg]} votes for 1st candidate, {10000 - results[reg]} votes for 2nd candidate\")\n",
    "\n",
    "    winner = 2\n",
    "    votes_first = sum (results)\n",
    "    votes_first_percanteges = votes_first / ( voters * len(results)) * 100\n",
    "\n",
    "    if votes_first_percanteges > 50:\n",
    "        winner = 1\n",
    "    elif votes_first_percanteges == 50:\n",
    "        print (f'Nobody wins. Both candidats have 50%')\n",
    "        return\n",
    "\n",
    "    print (f\"Result: candidat {winner} is a winner with {votes_first} votes and {votes_first_percanteges}% of all votes \")\n",
    "    \n",
    "\n",
    "def voting ():\n",
    "    ratings = input_information ()\n",
    "    results = simulation_voting ( ratings )\n",
    "    print_results( results )\n",
    "    \n",
    "voting()\n"
   ]
  },
  {
   "attachments": {},
   "cell_type": "markdown",
   "metadata": {},
   "source": [
    "7. Write a function that takes a tuple of integers as an argument, and returns a tuple containing the minimum and maximum values in the list. Use a try/except block to handle the case where the tuple is empty."
   ]
  },
  {
   "cell_type": "code",
   "execution_count": 27,
   "metadata": {},
   "outputs": [
    {
     "name": "stdout",
     "output_type": "stream",
     "text": [
      "There is an error. Probably, tuple is empty.\n"
     ]
    }
   ],
   "source": [
    "def foo (data : tuple) -> tuple:\n",
    "    try:\n",
    "        return (min (data), max (data))\n",
    "    except ValueError:\n",
    "         print (\"There is an error. Probably, tuple is empty.\")\n",
    "\n",
    "input_data = ()\n",
    "foo( input_data)"
   ]
  }
 ],
 "metadata": {
  "kernelspec": {
   "display_name": "Python 3",
   "language": "python",
   "name": "python3"
  },
  "language_info": {
   "codemirror_mode": {
    "name": "ipython",
    "version": 3
   },
   "file_extension": ".py",
   "mimetype": "text/x-python",
   "name": "python",
   "nbconvert_exporter": "python",
   "pygments_lexer": "ipython3",
   "version": "3.9.6"
  },
  "orig_nbformat": 4,
  "vscode": {
   "interpreter": {
    "hash": "aee8b7b246df8f9039afb4144a1f6fd8d2ca17a180786b69acc140d282b71a49"
   }
  }
 },
 "nbformat": 4,
 "nbformat_minor": 2
}
