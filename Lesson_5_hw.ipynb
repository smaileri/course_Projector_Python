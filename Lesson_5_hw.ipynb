{
 "cells": [
  {
   "attachments": {},
   "cell_type": "markdown",
   "metadata": {},
   "source": [
    "1. Write a function called `product_numbers` that takes in two integers $a$ and $b$ and returns the product of all the numbers between $a$ and $b$ (inclusive). For example, if $a$ is $3$ and $b$ is $7$, the function should return the product $3 * 4 * 5 * 6 * 7 = 2520$."
   ]
  },
  {
   "cell_type": "code",
   "execution_count": 29,
   "metadata": {},
   "outputs": [
    {
     "data": {
      "text/plain": [
       "2520"
      ]
     },
     "execution_count": 29,
     "metadata": {},
     "output_type": "execute_result"
    }
   ],
   "source": [
    "def product_numbers (a: int, b:int) -> int:\n",
    "    if ( a <= b):\n",
    "        answer = 1\n",
    "        for tmt in range (a, b + 1):\n",
    "            answer*= tmt\n",
    "        return answer\n",
    "\n",
    "product_numbers(3, 7)"
   ]
  },
  {
   "attachments": {},
   "cell_type": "markdown",
   "metadata": {},
   "source": [
    "2. Write a function called `find_primes` that takes in two integers $a$ and $b$ and returns a list of all the prime numbers between $a$ and $b$ (inclusive)."
   ]
  },
  {
   "cell_type": "code",
   "execution_count": 40,
   "metadata": {},
   "outputs": [
    {
     "data": {
      "text/plain": [
       "[2, 3, 5, 7, 11, 13, 17, 19]"
      ]
     },
     "execution_count": 40,
     "metadata": {},
     "output_type": "execute_result"
    }
   ],
   "source": [
    "#1st option \n",
    "def is_prime (p: int)->int:\n",
    "    if p == 1:\n",
    "        return False\n",
    "    for tmt in range (2, int (p ** 0.5) + 1):\n",
    "        if (not (p % tmt)):\n",
    "            return False\n",
    "    return True\n",
    "\n",
    "def qoo (a, b):\n",
    "    if (isinstance(a,int) and isinstance(b, int)):\n",
    "        answer = []\n",
    "        for tmt in range (a, b + 1):\n",
    "            if is_prime(tmt):\n",
    "                answer.append(tmt)\n",
    "        return answer\n",
    "\n",
    "qoo (1, 21)"
   ]
  },
  {
   "cell_type": "code",
   "execution_count": 37,
   "metadata": {},
   "outputs": [
    {
     "data": {
      "text/plain": [
       "[2, 3, 5, 7, 11, 13, 17, 19]"
      ]
     },
     "execution_count": 37,
     "metadata": {},
     "output_type": "execute_result"
    }
   ],
   "source": [
    "#2nd option\n",
    "\n",
    "def eratosphen (n:int)->list:\n",
    "    if (n == 1):\n",
    "        return []\n",
    "    data = [x for x in range (n + 1)]\n",
    "    for number in data[2:]:\n",
    "        if number:\n",
    "            if (2*number <= n + 1):\n",
    "                for tmt in range (2*number, n + 1, number):\n",
    "                    data[tmt] = 0\n",
    "    \n",
    "    return [x for x in data[2:] if x]\n",
    "\n",
    "\n",
    "\n",
    "def woo (a: int, b: int) -> int: \n",
    "    data = eratosphen (max (a, b))\n",
    "    return [ x for x in data if x >= min (a, b)]\n",
    "\n",
    "\n",
    "woo (1, 21)"
   ]
  },
  {
   "attachments": {},
   "cell_type": "markdown",
   "metadata": {},
   "source": [
    "3. Write a function called `unique_characters` that takes in a string s and returns a Boolean value indicating whether or not all the characters in s are unique. For example, the string \"abcdefg\" has unique characters, but the string \"abcdeff\" does not."
   ]
  },
  {
   "cell_type": "code",
   "execution_count": 50,
   "metadata": {},
   "outputs": [
    {
     "name": "stdout",
     "output_type": "stream",
     "text": [
      "False\n",
      "False\n",
      "time of 1st prog: 0.00048804283142089844\n",
      "time of 2nd prog: 5.793571472167969e-05\n"
     ]
    }
   ],
   "source": [
    "\n",
    "\n",
    "def unique_characters1 (s: str)-> bool:\n",
    "    \n",
    "    for char in s:\n",
    "        if s.count(char) > 1:\n",
    "            return False\n",
    "    return True\n",
    "\n",
    "#I think the second one is more quick, isn't it?\n",
    "def unique_characters2 (s: str)-> bool:\n",
    "    for pos, char in enumerate(s[:-1]):\n",
    "        if char in s[pos + 1:]:\n",
    "            return False\n",
    "    return True\n",
    "\n",
    "\n",
    "import time\n",
    "s = \"aaabbbcfd\"\n",
    "t1 = time.time()\n",
    "print (unique_characters1(s))\n",
    "t2 = time.time()\n",
    "print (unique_characters2(s))\n",
    "t3 = time.time ()\n",
    "print (\"time of 1st prog:\", t2 - t1)\n",
    "print (\"time of 2nd prog:\", t3 - t2)"
   ]
  },
  {
   "cell_type": "markdown",
   "metadata": {},
   "source": [
    "4. Write a function called `anagrams` that takes in two strings s1 and s2 and returns a Boolean value indicating whether or not s1 and s2 are anagrams. Two strings are anagrams if they contain the same letters in any order. For example, \"listen\" and \"silent\" are anagrams, but \"hello\" and \"world\" are not."
   ]
  },
  {
   "cell_type": "code",
   "execution_count": 48,
   "metadata": {},
   "outputs": [
    {
     "name": "stdout",
     "output_type": "stream",
     "text": [
      "True\n",
      "False\n"
     ]
    }
   ],
   "source": [
    "def roo ( s1: str, s2: str)-> bool:\n",
    "    d1 = {x: s1.count(x) for x in s1}\n",
    "    d2 = {x: s2.count(x) for x in s2}\n",
    "    if ( d1 == d2):\n",
    "        return True\n",
    "    else:\n",
    "        return False\n",
    "\n",
    "print (roo (\"listen\", \"silent\"))\n",
    "print (roo (\"hello\", \"world\"))"
   ]
  },
  {
   "attachments": {},
   "cell_type": "markdown",
   "metadata": {},
   "source": [
    "1. Write a program that caluculate Fibonacci series. The Fibonacci series is a series of numbers in which each number is the sum of the two preceding numbers. The first two numbers are 1 and 1 . The third number is $1+1=2$, the fourth number is $1+2=3$, and so on. Number of iterations should be taken from user input."
   ]
  },
  {
   "cell_type": "code",
   "execution_count": 3,
   "metadata": {},
   "outputs": [
    {
     "name": "stdout",
     "output_type": "stream",
     "text": [
      "8\n"
     ]
    }
   ],
   "source": [
    "#1st option\n",
    "\n",
    "def fib1 (n):\n",
    "    if (isinstance(n, int)):\n",
    "        if (n == 1 or n == 2):\n",
    "            return 1\n",
    "        else:\n",
    "            a = 1\n",
    "            b = 1\n",
    "            # next 2 lines I like even more than while loop\n",
    "            # for _ in range ( n - 2 ): \n",
    "            #     a, b = b, a + b\n",
    "            counter = 2\n",
    "            while counter <= n:\n",
    "                a, b = b, a + b\n",
    "                counter += 1\n",
    "            return b\n",
    "\n",
    "print ( fib1 ( int( input (\"Please, which fib_n you want to know\"))))            "
   ]
  },
  {
   "cell_type": "code",
   "execution_count": 9,
   "metadata": {},
   "outputs": [
    {
     "name": "stdout",
     "output_type": "stream",
     "text": [
      "8\n"
     ]
    }
   ],
   "source": [
    "# second option\n",
    "\n",
    "def fib2 (n):\n",
    "    if(isinstance(n, int)):\n",
    "        return (((1 + 5**0.5) / 2) **n - ((1 - 5**0.5) / 2)**n) / 5**0.5\n",
    "\n",
    "print ( int (fib2 ( int( input (\"Please, which fib_n you want to know\")))))            "
   ]
  },
  {
   "cell_type": "code",
   "execution_count": 10,
   "metadata": {},
   "outputs": [
    {
     "name": "stdout",
     "output_type": "stream",
     "text": [
      "8\n"
     ]
    }
   ],
   "source": [
    "# third option\n",
    "\n",
    "def fib3 (n):\n",
    "    if(isinstance(n, int)):\n",
    "        if ( n == 1 or n == 2):\n",
    "            return 1\n",
    "        else:\n",
    "            return fib3( n - 1) + fib3 ( n - 2)\n",
    "\n",
    "print ( int (fib3 ( int( input (\"Please, which fib_n you want to know\")))))                "
   ]
  },
  {
   "attachments": {},
   "cell_type": "markdown",
   "metadata": {},
   "source": [
    "Write a program that iterated from $0$ to $100$ and prints out the number if it is\n",
    "divisible by $3$."
   ]
  },
  {
   "cell_type": "code",
   "execution_count": 13,
   "metadata": {},
   "outputs": [
    {
     "name": "stdout",
     "output_type": "stream",
     "text": [
      "0 3 6 9 12 15 18 21 24 27 30 33 36 39 42 45 48 51 54 57 60 63 66 69 72 75 78 81 84 87 90 93 96 99 "
     ]
    }
   ],
   "source": [
    "def foo ():\n",
    "    for number in range (101):\n",
    "        if (not number % 3):\n",
    "            print ( number, end= \" \")\n",
    "    \n",
    "foo()"
   ]
  },
  {
   "attachments": {},
   "cell_type": "markdown",
   "metadata": {},
   "source": [
    "Write a function that implement case swapping. It should return the same result as\n",
    "swapcase() method. Your function should accept one sr argument and convert all\n",
    "lower case values to upper case and vice versa."
   ]
  },
  {
   "cell_type": "code",
   "execution_count": 52,
   "metadata": {},
   "outputs": [
    {
     "name": "stdout",
     "output_type": "stream",
     "text": [
      "aBRAcADAbRA\n",
      "aBRAcADAbRA\n",
      "time of 1st prog: 0.002434968948364258\n",
      "time of 2nd prog: 0.0001239776611328125\n"
     ]
    }
   ],
   "source": [
    "def doo(data: str) -> str:\n",
    "    answer = \"\"\n",
    "    for char in data: \n",
    "        if (char.islower()):\n",
    "            answer = answer + char.capitalize()\n",
    "        else:\n",
    "            answer = answer + char.lower()\n",
    "    return answer\n",
    "\n",
    "def hoo(data: str) -> str:\n",
    "    return \"\".join([x.capitalize() if x.islower() else x.lower() for x in data])\n",
    "\n",
    "    \n",
    "import time\n",
    "t1 = time.time()\n",
    "print (hoo(\"AbraCadaBra\"))\n",
    "t2 = time.time()\n",
    "print (doo(\"AbraCadaBra\"))\n",
    "t3 = time.time()\n",
    "print (\"time of 1st prog:\", t2 - t1)\n",
    "print (\"time of 2nd prog:\", t3 - t2)"
   ]
  },
  {
   "cell_type": "code",
   "execution_count": null,
   "metadata": {},
   "outputs": [],
   "source": []
  }
 ],
 "metadata": {
  "kernelspec": {
   "display_name": "Python 3",
   "language": "python",
   "name": "python3"
  },
  "language_info": {
   "codemirror_mode": {
    "name": "ipython",
    "version": 3
   },
   "file_extension": ".py",
   "mimetype": "text/x-python",
   "name": "python",
   "nbconvert_exporter": "python",
   "pygments_lexer": "ipython3",
   "version": "3.11.1 (v3.11.1:a7a450f84a, Dec  6 2022, 15:24:06) [Clang 13.0.0 (clang-1300.0.29.30)]"
  },
  "orig_nbformat": 4,
  "vscode": {
   "interpreter": {
    "hash": "aee8b7b246df8f9039afb4144a1f6fd8d2ca17a180786b69acc140d282b71a49"
   }
  }
 },
 "nbformat": 4,
 "nbformat_minor": 2
}
